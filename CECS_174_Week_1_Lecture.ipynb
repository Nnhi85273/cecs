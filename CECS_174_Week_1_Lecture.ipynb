{
  "cells": [
    {
      "cell_type": "markdown",
      "metadata": {
        "id": "WNUDEF07pAnE"
      },
      "source": [
        "# Week 1: The Python Basics\n",
        "\n",
        "#### Module Learning Objectives:\n",
        "\n",
        "**MLO 1.1:** Explain what a computer program is.\n",
        "\n",
        "**MLO 1.2:** Identify what an expression, a variable, an assignment and a comment are in the context of Python program.\n",
        "\n",
        "**MLO 1.3:** Create a simple program that takes input values and uses them to print an output to the screen.\n",
        "\n",
        "**MLO 1.4:** Explain the differences between syntax and a runtime errors, and what causes them.\n",
        "\n",
        "## Programming (general)\n",
        "\n",
        "A **computer program** is a set of instructions that are executed one at a time.  There are three possible types of instructions:\n",
        "\n",
        "1. Input: instructions in which the computer accepts data from a file, keyboard, touchscreen, network, etc.\n",
        "2. Process: instructions which require the computer to perform some computation.\n",
        "3. Output: instructions in which the computer outputs data to the screen, a file, a network, etc.\n",
        "\n",
        "* **Expression:** code that returns a value when evaluated.\n",
        "* **Variable:** named references to values stored by the interpreter\n",
        "* **Assignment:** the act of copying a value into a variable\n",
        "* **Comment:** descriptive notes written as part of the program, but that are not executed as an instruction, i.e. comments are ignored by the interpreter.\n",
        "\n",
        "## Programming in Python\n",
        "\n",
        "#### Exercise |\n",
        "Identify all variables, all assignments, at least two expressions, and at least one comment in the code below:\n"
      ]
    },
    {
      "cell_type": "code",
      "execution_count": null,
      "metadata": {
        "id": "aIQ42PCnpAnI"
      },
      "outputs": [],
      "source": [
        "wage = 20\n",
        "hours = 40\n",
        "weeks = 52\n",
        "salary = wage * hours * weeks # this computes the annual salary\n",
        "\n",
        "print('Salary is:', salary)\n",
        "\n",
        "hours = 35  # replacing the number of hours\n",
        "salary = wage * hours * weeks\n",
        "print('New salary is:', salary)"
      ]
    },
    {
      "cell_type": "markdown",
      "metadata": {
        "id": "WIgY6yJbpAnK"
      },
      "source": [
        "**Variables:**\n",
        "\n",
        "-\n",
        "\n",
        "-\n",
        "\n",
        "\n",
        "**Assignments:**\n",
        "\n",
        "-\n",
        "\n",
        "-\n",
        "\n",
        "**Expressions:**\n",
        "\n",
        "-\n",
        "\n",
        "-\n",
        "\n",
        "\n"
      ]
    },
    {
      "cell_type": "markdown",
      "metadata": {
        "id": "-3x8ivw0pAnK"
      },
      "source": [
        "### The Python Interpreter\n",
        "\n",
        "Python code is executed by a computer program called an **interpreter**.  An interpreter translates the Python code you write into a machine language (known as bytecode) that the computer can understand and respond to.  \n",
        "\n",
        "A Python **interactive interpreter** allows you to *write and execute* Python code, line-by-line.  If you have Python installed on your computer, you can access the interactive interpreter on...\n",
        "\n",
        "* Windows:\n",
        "1. Press the 'Search' button in the lower, left-hand corner of your display.  It should be to the right of the 'Start' button.\n",
        "2. Type `Python`.\n",
        "3. Select the Python 3.8 (or higher) App\n",
        "\n",
        "* Mac\n",
        "1. Open 'Utilities'\n",
        "2. Open a terminal window\n",
        "3. Type `python`\n",
        "\n",
        "Once you open the interpreter, it will prompt you to type your line of Python by displaying `>>>`."
      ]
    },
    {
      "cell_type": "markdown",
      "metadata": {
        "id": "AViBXv4_pAnL"
      },
      "source": [
        "## Basic Output\n",
        "\n",
        "*In this section, we will learn a basic and common programming task: printing to the screen.*\n",
        "\n",
        "\n",
        "SYNTAX |"
      ]
    },
    {
      "cell_type": "code",
      "execution_count": null,
      "metadata": {
        "id": "jKXy6mL6pAnL"
      },
      "outputs": [],
      "source": [
        "print(\"Hello! Welcome to the course!\")"
      ]
    },
    {
      "cell_type": "markdown",
      "metadata": {
        "id": "uQXtpkE9pAnL"
      },
      "source": [
        "What we just printed is called a *print statement*\n",
        "Try typing two print statements, one printing \"Hello\" and the other printing \"World!\".  How are the strings printed?"
      ]
    },
    {
      "cell_type": "code",
      "execution_count": null,
      "metadata": {
        "id": "Vsu1aCy-pAnM"
      },
      "outputs": [],
      "source": [
        "print(\"Hello \")\n",
        "print( \"World\")"
      ]
    },
    {
      "cell_type": "markdown",
      "metadata": {
        "id": "vXIDD6RcpAnN"
      },
      "source": [
        "**Ans:**"
      ]
    },
    {
      "cell_type": "markdown",
      "metadata": {
        "id": "-mePqrk_pAnN"
      },
      "source": [
        "### Changing the ending of print( )\n",
        "\n",
        "Let's look a little more closely into what print() is doing behind the scenes.  \n",
        "\n",
        "When we call ```print(\"Hello World\")```, the interpreter considers this to mean print\n",
        "\n",
        "```\"Hello World\\n\"```  \n",
        "\n",
        "Now of course, we never typed `\\n` in our string literal, but the Python defaults to that ending.\n",
        "\n",
        "What exactly does `\\n` mean?  "
      ]
    },
    {
      "cell_type": "markdown",
      "metadata": {
        "id": "P15IES0zpAnN"
      },
      "source": [
        "**Ans:**  "
      ]
    },
    {
      "cell_type": "markdown",
      "source": [
        "There are other types of escape sequences, for example, run the code print(\"Hello\\tWorld\")"
      ],
      "metadata": {
        "id": "bHi_uuSWMFsA"
      }
    },
    {
      "cell_type": "code",
      "source": [],
      "metadata": {
        "id": "6lzhv-__MJRL"
      },
      "execution_count": null,
      "outputs": []
    },
    {
      "cell_type": "markdown",
      "metadata": {
        "id": "gpEE4myApAnN"
      },
      "source": [
        "Okay, so now that we are aware of this, how we want to print on the same line? Easy.  Just change the ending from `\\n` to a single space using the following syntax."
      ]
    },
    {
      "cell_type": "code",
      "execution_count": null,
      "metadata": {
        "id": "R5-27GQlpAnO"
      },
      "outputs": [],
      "source": [
        "print(\"Hello Strange\", end = \" \")\n",
        "print(\"World\")"
      ]
    },
    {
      "cell_type": "markdown",
      "metadata": {
        "id": "HGo2HTeVpAnO"
      },
      "source": [
        "Let's try another example, where our ending is not a space but an ellipsis."
      ]
    },
    {
      "cell_type": "code",
      "execution_count": null,
      "metadata": {
        "id": "xx3viLAQpAnO"
      },
      "outputs": [],
      "source": []
    },
    {
      "cell_type": "markdown",
      "metadata": {
        "id": "4C-U4sv6pAnO"
      },
      "source": [
        "### Printing the value of a variable"
      ]
    },
    {
      "cell_type": "code",
      "execution_count": null,
      "metadata": {
        "id": "oPEKIJQspAnO"
      },
      "outputs": [],
      "source": [
        "wage = 20.5\n",
        "hours = 42.3\n",
        "weeks = 30.56\n",
        "\n",
        "salary = wage * hours * weeks"
      ]
    },
    {
      "cell_type": "markdown",
      "metadata": {
        "id": "YEfu-zLMpAnO"
      },
      "source": [
        "Often, we want to print text along with the result of a certain calculation.  There are a few ways you can do this:\n",
        "\n",
        "#### Method 1: The long way"
      ]
    },
    {
      "cell_type": "code",
      "execution_count": null,
      "metadata": {
        "id": "RJbtgIJbpAnP"
      },
      "outputs": [],
      "source": [
        "print(\"The salary is $\", end = \"\")\n",
        "print(salary, end = \" \") #How would the string print if we omitted end = \" \"?\n",
        "print(\"!\")"
      ]
    },
    {
      "cell_type": "markdown",
      "metadata": {
        "id": "FpDwQ-rqpAnP"
      },
      "source": [
        "#### Method 2: The short way"
      ]
    },
    {
      "cell_type": "code",
      "execution_count": null,
      "metadata": {
        "id": "lh6hFDbjpAnP"
      },
      "outputs": [],
      "source": [
        "print(\"The salary is $\", salary, \"!\")"
      ]
    },
    {
      "cell_type": "markdown",
      "metadata": {
        "id": "eroSbNG6pAnP"
      },
      "source": [
        "#### Method 3: The advanced way\n",
        "\n",
        "The \"advanced way\" requires knowledge of special operators called ***string format operators***.  Format operators use the symbol % to instruct the interpreter to include a particular object in the string.  The following are some format operators:\n",
        "\n",
        "* %c - insert a character\n",
        "* %s - insert a string\n",
        "* %i - insert an integer\n",
        "* %d - insert a signed integer (i.e. +/-)\n",
        "* %f - insert a floating point number (i.e. a decimal)\n",
        "* %e - insert a number using exponential notation\n",
        "\n",
        "\n",
        "The general syntax for using these operators is the following:\n",
        "\n",
        "SYNTAX |\n",
        "\n",
        "`print( \"I will insert a floating point number here \\%f and an integer here \\%i.  Have a good day!\" % (var_float, var_int) )}`\n",
        "\n",
        "Here is an example:"
      ]
    },
    {
      "cell_type": "code",
      "execution_count": null,
      "metadata": {
        "id": "-JibinRLpAnP"
      },
      "outputs": [],
      "source": [
        "print(\"The salary for %f weeks is $%f\" % (weeks, salary))"
      ]
    },
    {
      "cell_type": "markdown",
      "metadata": {
        "id": "LZGRb5LgpAnQ"
      },
      "source": [
        "Notice that printing a floating point number will give us more decimal places than we perhaps care for.  We can remedy this by ......"
      ]
    },
    {
      "cell_type": "code",
      "execution_count": null,
      "metadata": {
        "id": "WMMVoGotpAnQ"
      },
      "outputs": [],
      "source": [
        "print( \"The salary for %.1f weeks is $%.2f\" % (weeks, salary)) #Think about it: What does %.1f do versus %.2f?\n",
        "#Try changing the first number to %.2f.  What changed in the print statement?"
      ]
    },
    {
      "cell_type": "markdown",
      "metadata": {
        "id": "KQ6UG5OzpAnQ"
      },
      "source": [
        "## Basic Input\n",
        "\n",
        "Another basic programming task is accepting user input.  \n",
        "\n",
        "SYNTAX | ACCEPTING STRING INPUT"
      ]
    },
    {
      "cell_type": "code",
      "execution_count": null,
      "metadata": {
        "id": "Xz0iRvsZpAnQ"
      },
      "outputs": [],
      "source": [
        "var = input(\"Enter something here: \")"
      ]
    },
    {
      "cell_type": "markdown",
      "metadata": {
        "id": "OxsZolHypAnQ"
      },
      "source": [
        "Let's dissect the syntax...\n",
        "\n",
        "* `input()` is a function that takes in keyboard input and saves it as a string of characters.\n",
        "\n",
        "* `input(\"message goes here\")` also takes in keyboard input but displays the string `message goes here` before accepting input\n",
        "\n",
        "* `var = input()` or `var = input(\"message goes here\")` takes in keyboard input and stores it to a variable called `var`\n",
        "\n",
        "SYNTAX | ACCEPTING INTEGER INPUT"
      ]
    },
    {
      "cell_type": "code",
      "execution_count": null,
      "metadata": {
        "id": "XNgcFdUNpAnR"
      },
      "outputs": [],
      "source": [
        "some_integer = input(\"Enter an integer: \") #accepts keyboard input and stores it as a string to the variable some_integer\n",
        "print(\"Value:\", some_integer)\n",
        "print(\"Object type:\", type(some_integer))"
      ]
    },
    {
      "cell_type": "code",
      "execution_count": null,
      "metadata": {
        "id": "zNLihkB6pAnR"
      },
      "outputs": [],
      "source": [
        "some_integer = int(input(\"Enter an integer: \")) #accepts keyboard input and stores it as a string to the variable some_integer\n",
        "print(\"Value:\", some_integer)\n",
        "print(\"Object type:\", type(some_integer))"
      ]
    },
    {
      "cell_type": "code",
      "execution_count": null,
      "metadata": {
        "id": "QadbVv4ypAnR"
      },
      "outputs": [],
      "source": [
        "#-----------------------PLAY WITH THE FOLLOWING EXAMPLE--------------------------------------#\n",
        "name = input(\"Hi! What is your name? \")\n",
        "age = int(input(\"Nice to meet you %s! How old are you? \" % name))\n",
        "birth_year = 2021 - age\n",
        "print(\"Cool! That means you were born in the year %d or %d!\" % (birth_year-1, birth_year))"
      ]
    },
    {
      "cell_type": "markdown",
      "metadata": {
        "id": "8ra26HCxpAnR"
      },
      "source": [
        "## Errors\n",
        "\n",
        "There are 3 types of errors that you can make as a programmer:\n",
        "\n",
        "1. **Syntax Errors** - those that will prevent the code from being compiled or executed successfully\n",
        "(occur when code doesn't follow the correct syntax rules of the programming language)\n",
        "2. **Runtime Errors** - those that will stop your program from running (i.e. crash your program )\n",
        "3. **Logical Errors** - those that will not crash your program but will give you an incorrect or unintended output\n",
        "\n",
        "### Syntax Errors\n",
        "\n",
        "DEF | SYNTAX ERROR\n",
        "\n",
        "A syntax error is one that <mark>violates the programming language's rules on how symbols can be combined to create a program.</mark>\n",
        "\n",
        "Example 1:"
      ]
    },
    {
      "cell_type": "code",
      "execution_count": null,
      "metadata": {
        "id": "Vm9s7VCApAnR"
      },
      "outputs": [],
      "source": [
        "print(\"Hello\") print(\"World\")"
      ]
    },
    {
      "cell_type": "markdown",
      "metadata": {
        "id": "91Q8CK4ipAnR"
      },
      "source": [
        "Example 2:"
      ]
    },
    {
      "cell_type": "code",
      "execution_count": null,
      "metadata": {
        "id": "pO98E-VOpAnS"
      },
      "outputs": [],
      "source": [
        "weeks = 4\n",
        "print(\"Number of weeks\" weeks)"
      ]
    },
    {
      "cell_type": "markdown",
      "metadata": {
        "id": "q8sKME4GpAnS"
      },
      "source": [
        "Example 3:"
      ]
    },
    {
      "cell_type": "code",
      "execution_count": null,
      "metadata": {
        "id": "LdA7wTSgpAnS"
      },
      "outputs": [],
      "source": [
        "print(\"World')"
      ]
    },
    {
      "cell_type": "markdown",
      "metadata": {
        "id": "Pgz6hc0YpAnS"
      },
      "source": [
        "\n",
        "### Runtime Errors\n",
        "\n",
        "#### Type 1: IndentationError\n",
        "\n",
        "CAUTION: In Python, **indentation (white space) matter!** Indentation is used by the interpreter to identify which blocks of code should be executed together.  You will see the importance of this once we start learning about for/while loops and functions.  <mark>If your code is not properly indented then your program will crash!\n",
        "    \n",
        "Example 1:"
      ]
    },
    {
      "cell_type": "code",
      "execution_count": null,
      "metadata": {
        "id": "kcZhVGdSpAnS"
      },
      "outputs": [],
      "source": [
        "print(\"What's your name?\")\n",
        "   name = input()"
      ]
    },
    {
      "cell_type": "markdown",
      "metadata": {
        "id": "kVjlPpK0pAnX"
      },
      "source": [
        "Example 2:"
      ]
    },
    {
      "cell_type": "code",
      "execution_count": null,
      "metadata": {
        "id": "0kcBFUzMpAnX"
      },
      "outputs": [],
      "source": [
        "  name = input(\"Enter your name: \")\n",
        "age = int(input(\"Enter your age: \"))\n",
        "print(\"Thank you for your response!\")"
      ]
    },
    {
      "cell_type": "markdown",
      "metadata": {
        "id": "Ks_bgGz8pAnX"
      },
      "source": [
        "#### Type 2: NameError\n",
        "\n",
        "Your program will encounter a value error if <mark>you try to access a variable that does not exist.\n",
        "\n",
        "Example:"
      ]
    },
    {
      "cell_type": "code",
      "execution_count": null,
      "metadata": {
        "id": "9Z-ulTeApAnY"
      },
      "outputs": [],
      "source": []
    },
    {
      "cell_type": "markdown",
      "metadata": {
        "id": "rAClWuaQpAnY"
      },
      "source": [
        "#### Type 3: ValueError\n",
        "\n",
        "A value error occurs when <mark>you give the interpreter a value it was not expecting</mark> e.g. a string literal when it is expecting an integer.\n",
        "\n",
        "Example:"
      ]
    },
    {
      "cell_type": "code",
      "execution_count": null,
      "metadata": {
        "id": "dkzS3TG8pAnY"
      },
      "outputs": [],
      "source": []
    },
    {
      "cell_type": "markdown",
      "metadata": {
        "id": "jCDxT0q1pAnY"
      },
      "source": [
        "#### Type 4: TypeError\n",
        "\n",
        "A type error is similar to a value error in that you use unexpected value types.  Specifically, in the case of a `TypeError`, <mark>you use unexpected or incompatible value types in an expression.</mark>\n",
        "\n",
        "Example:  Try adding a string with an integer"
      ]
    },
    {
      "cell_type": "code",
      "execution_count": null,
      "metadata": {
        "id": "w4rWKho8pAnY"
      },
      "outputs": [],
      "source": []
    },
    {
      "cell_type": "markdown",
      "metadata": {
        "id": "RlEIL_9hpAnY"
      },
      "source": [
        "### Logical Errors (\"Bugs\")\n",
        "\n",
        "We now take a look at logical errors.  As stated before, *a logical error will not crash your program*, which makes them more difficult to find and fix.\n",
        "\n",
        "Identify the bug in the following lines of code:"
      ]
    },
    {
      "cell_type": "code",
      "execution_count": null,
      "metadata": {
        "id": "l-odhiuhpAnZ"
      },
      "outputs": [],
      "source": [
        "dist = float(input(\"Enter the distance you wish to travel (in miles): \"))\n",
        "speed = float(input(\"Enter your average speed (in mph): \"))\n",
        "time = dist * speed\n",
        "print(\"You should reach your destination in about %.2f hours.\" % time)"
      ]
    },
    {
      "cell_type": "markdown",
      "metadata": {
        "id": "oq_JaOhOpAnZ"
      },
      "source": [
        "Now, fix the logical error so that the program correctly prints the approximate number of hours the user should expect to travel, given a distance and average speed."
      ]
    },
    {
      "cell_type": "code",
      "execution_count": null,
      "metadata": {
        "id": "aDEyNGprpAnZ"
      },
      "outputs": [],
      "source": [
        "dist = float(input(\"Enter the distance you wish to travel (in miles): \"))\n",
        "speed = float(input(\"Enter your average speed (in mph): \"))\n",
        "time = dist * speed\n",
        "print(\"You should reach your destination in about %.2f hours.\" % time)"
      ]
    },
    {
      "cell_type": "markdown",
      "metadata": {
        "id": "2gnfGnaMpAnZ"
      },
      "source": [
        "### Tips for avoiding and fixing errors\n",
        "\n",
        "* **Run your code often** - If you are an experienced programmer, run your program after every 7-10 lines that you create.  If you are a beginner, run after every 3-5 lines.\n",
        "* **Pay attention to runtime error messages** - This will give you the exact type of error you are making, and most importantly, where you are making the error\n",
        "* **If your program is supposed to react according to input, test all the possible input cases that the user can enter.**\n",
        "* **Take a break** - If you can not find your bug, take a break.  You will be surprised at how easy it is to overlook a simple an error when your eyes and/or mind are tired."
      ]
    },
    {
      "cell_type": "code",
      "execution_count": null,
      "metadata": {
        "id": "pz859zdOpAnZ"
      },
      "outputs": [],
      "source": []
    }
  ],
  "metadata": {
    "anaconda-cloud": {},
    "kernelspec": {
      "display_name": "Python 3",
      "language": "python",
      "name": "python3"
    },
    "language_info": {
      "codemirror_mode": {
        "name": "ipython",
        "version": 3
      },
      "file_extension": ".py",
      "mimetype": "text/x-python",
      "name": "python",
      "nbconvert_exporter": "python",
      "pygments_lexer": "ipython3",
      "version": "3.8.8"
    },
    "colab": {
      "provenance": []
    }
  },
  "nbformat": 4,
  "nbformat_minor": 0
}